{
 "cells": [
  {
   "cell_type": "code",
   "execution_count": 17,
   "id": "1891b744",
   "metadata": {},
   "outputs": [],
   "source": [
    "import sys\n",
    "import re\n",
    "import numpy as np\n",
    "import pandas as pd\n",
    "\n",
    "with open(\"Collocations\", \"r\", encoding='utf-8-sig') as f:\n",
    "    strg = f.read()"
   ]
  },
  {
   "cell_type": "code",
   "execution_count": 18,
   "id": "2367893d",
   "metadata": {},
   "outputs": [],
   "source": [
    "result = strg.lower()    \n",
    "result = re.sub(\"[^a-zA-Z0-9 ]\" , ' ', result)\n",
    "result = re.sub(\" +\",\" \", result)"
   ]
  },
  {
   "cell_type": "code",
   "execution_count": 19,
   "id": "b8716933",
   "metadata": {},
   "outputs": [],
   "source": [
    "# Calculating total number of words\n",
    "singles = result\n",
    "N=1\n",
    "for i in singles:\n",
    "    if i==\" \":\n",
    "        N+=1"
   ]
  },
  {
   "cell_type": "code",
   "execution_count": 20,
   "id": "f42c41d6",
   "metadata": {},
   "outputs": [],
   "source": [
    "def generate_ngrams(text, WordsToCombine):\n",
    "     words = text.split()\n",
    "     output = []  \n",
    "     for i in range(len(words)- WordsToCombine+1):\n",
    "         output.append(words[i:i+WordsToCombine])\n",
    "     return output\n",
    " \n",
    "n_grams  = generate_ngrams(result, WordsToCombine=1)"
   ]
  },
  {
   "cell_type": "code",
   "execution_count": 14,
   "id": "788783be",
   "metadata": {},
   "outputs": [],
   "source": [
    "# CHI function # CHI function # CHI function # CHI function # CHI function # CHI function # CHI function # CHI function \n",
    "def chi_sqr() :\n",
    "    Words = []\n",
    "    X_chi = []\n",
    "\n",
    "    for i in range(0,len(n_grams)):\n",
    "      if i < len(n_grams):\n",
    "        w1 = n_grams[i]\n",
    "        w2 = n_grams[i+1]\n",
    "        words = str(w1)+\" \"+str(w2)\n",
    "        \n",
    "        count11 = 0 \n",
    "        count12 = 0\n",
    "        count21 = 0\n",
    "        count22 = 0  \n",
    "        for i in range(0,len(n_grams)) :\n",
    "          if i < len(n_grams)-1:\n",
    "            if n_grams[i]==w1 and n_grams[i+1]==w2 :\n",
    "                count11+=1\n",
    "            if n_grams[i]!= w1 and n_grams[i+1]==w2 :\n",
    "                count12+=1\n",
    "            if n_grams[i]==w1 and n_grams[i+1]!=w2 :\n",
    "                count21+=1\n",
    "            if n_grams[i]!= w1 and n_grams[i+1]!=w2 :\n",
    "                count22+=1    \n",
    "        \n",
    "                                \n",
    "          \n",
    "        O11 = count11/N \n",
    "        O12 = count12/N\n",
    "        O21 = count21/N\n",
    "        O22 = count22/N  \n",
    "             \n",
    "\n",
    "        E11 = ( ((count11+count21)/N)  *  ((count11+count12)/N) )*N \n",
    "        E12 = ( ((count12+count22)/N)  *  ((count11+count12)/N) )*N \n",
    "        E21 = ( ((count11+count21)/N)  *  ((count21+count22)/N) )*N \n",
    "        E22 = ( ((count12+count22)/N)  *  ((count21+count22)/N) )*N \n",
    "\n",
    "        def chi(a,b):\n",
    "             value = ((a-b)**2)/b\n",
    "             return value \n",
    "\n",
    "        x_chi = chi(O11,E11) + chi(O12,E12) + chi(O21,E21) + chi(O22,E22) \n",
    "        \n",
    "\n",
    "\n",
    "        Words.append(words)\n",
    "        X_chi.append(x_chi)\n",
    "\n",
    "    df = pd.DataFrame(columns=['Words', 'X_chi'])\n",
    "    df.loc[ : , 'Words']= Words\n",
    "    df.loc[ : , 'X_chi']= X_chi\n",
    "    \n",
    "    return df.info()"
   ]
  },
  {
   "cell_type": "code",
   "execution_count": null,
   "id": "7511ffd0",
   "metadata": {},
   "outputs": [],
   "source": [
    "# PMI function # PMI function # PMI function # PMI function # PMI function # PMI function # PMI function\n",
    "def PMI():\n",
    "    Words2 = []\n",
    "    PMI = []\n",
    "    for i in range(0, len(n_grams)):\n",
    "      if i < len(n_grams):\n",
    "        w1 = n_grams[i]\n",
    "        w2 = n_grams[i+1]\n",
    "        words2 = str(w1)+\" \"+str(w2)\n",
    "        \n",
    "      count_w1w2 = 0\n",
    "      for i in range(0,len(n_grams)) :\n",
    "        if i < len(n_grams):\n",
    "          if n_grams[i]==w1 and n_grams[i+1]==w2 :\n",
    "            count_w1w2+=1\n",
    "\n",
    "      count_w1 = n_grams.count(w1)\n",
    "      count_w2 = n_grams.count(w2)\n",
    "      \n",
    "      pmi = np.log(  (count_w1w2/N)  /  ((count_w1/N)*(count_w2/N))  )\n",
    "\n",
    "\n",
    "      Words2.append(words2)\n",
    "      PMI.append(pmi)\n",
    "\n",
    "    df2 = pd.DataFrame(columns=['Words', 'PMI'])\n",
    "    df2['Words']= Words2\n",
    "    df2['PMI']= PMI\n",
    "    \n",
    "    return df2.info()"
   ]
  },
  {
   "cell_type": "code",
   "execution_count": null,
   "id": "25d8a89e",
   "metadata": {},
   "outputs": [],
   "source": []
  },
  {
   "cell_type": "code",
   "execution_count": null,
   "id": "bfeb0438",
   "metadata": {},
   "outputs": [],
   "source": [
    "chi_sqr()"
   ]
  },
  {
   "cell_type": "code",
   "execution_count": null,
   "id": "cd378140",
   "metadata": {},
   "outputs": [],
   "source": [
    "PMI()"
   ]
  }
 ],
 "metadata": {
  "kernelspec": {
   "display_name": "Python 3 (ipykernel)",
   "language": "python",
   "name": "python3"
  },
  "language_info": {
   "codemirror_mode": {
    "name": "ipython",
    "version": 3
   },
   "file_extension": ".py",
   "mimetype": "text/x-python",
   "name": "python",
   "nbconvert_exporter": "python",
   "pygments_lexer": "ipython3",
   "version": "3.9.12"
  }
 },
 "nbformat": 4,
 "nbformat_minor": 5
}
